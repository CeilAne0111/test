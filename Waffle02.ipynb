{
  "nbformat": 4,
  "nbformat_minor": 0,
  "metadata": {
    "colab": {
      "provenance": [],
      "authorship_tag": "ABX9TyNoGfyTmEN57i8bHZmZaFDJ",
      "include_colab_link": true
    },
    "kernelspec": {
      "name": "python3",
      "display_name": "Python 3"
    },
    "language_info": {
      "name": "python"
    }
  },
  "cells": [
    {
      "cell_type": "markdown",
      "metadata": {
        "id": "view-in-github",
        "colab_type": "text"
      },
      "source": [
        "<a href=\"https://colab.research.google.com/github/CeilAne0111/test/blob/main/Waffle02.ipynb\" target=\"_parent\"><img src=\"https://colab.research.google.com/assets/colab-badge.svg\" alt=\"Open In Colab\"/></a>"
      ]
    },
    {
      "cell_type": "markdown",
      "source": [
        "# 必要な道具を揃える[環境準備]\n",
        "\n",
        "1. Flaskのインストール\n",
        "2. Python用のngrokライブラリpyngrokのインストール\n",
        "3. 必要なモジュールのインストール"
      ],
      "metadata": {
        "id": "DP01g8fjlgRP"
      }
    },
    {
      "cell_type": "code",
      "source": [
        "# @title 1. Flaskのインストール & 2. pyngrokのインストール\n",
        "!pip install flask pyngrok"
      ],
      "metadata": {
        "colab": {
          "base_uri": "https://localhost:8080/"
        },
        "id": "XgwkxHWll-0o",
        "outputId": "dfb437c0-e16f-47b5-ca59-1632b49dcf6d"
      },
      "execution_count": 1,
      "outputs": [
        {
          "output_type": "stream",
          "name": "stdout",
          "text": [
            "Requirement already satisfied: flask in /usr/local/lib/python3.11/dist-packages (3.1.0)\n",
            "Collecting pyngrok\n",
            "  Downloading pyngrok-7.2.3-py3-none-any.whl.metadata (8.7 kB)\n",
            "Requirement already satisfied: Werkzeug>=3.1 in /usr/local/lib/python3.11/dist-packages (from flask) (3.1.3)\n",
            "Requirement already satisfied: Jinja2>=3.1.2 in /usr/local/lib/python3.11/dist-packages (from flask) (3.1.5)\n",
            "Requirement already satisfied: itsdangerous>=2.2 in /usr/local/lib/python3.11/dist-packages (from flask) (2.2.0)\n",
            "Requirement already satisfied: click>=8.1.3 in /usr/local/lib/python3.11/dist-packages (from flask) (8.1.8)\n",
            "Requirement already satisfied: blinker>=1.9 in /usr/local/lib/python3.11/dist-packages (from flask) (1.9.0)\n",
            "Requirement already satisfied: PyYAML>=5.1 in /usr/local/lib/python3.11/dist-packages (from pyngrok) (6.0.2)\n",
            "Requirement already satisfied: MarkupSafe>=2.0 in /usr/local/lib/python3.11/dist-packages (from Jinja2>=3.1.2->flask) (3.0.2)\n",
            "Downloading pyngrok-7.2.3-py3-none-any.whl (23 kB)\n",
            "Installing collected packages: pyngrok\n",
            "Successfully installed pyngrok-7.2.3\n"
          ]
        }
      ]
    },
    {
      "cell_type": "markdown",
      "source": [
        "!pip installはpythonパッケージインストールコマンド\n",
        "コマンドとは: シェルを通してコンピューターにする命令(今回はpip)\n",
        "\n",
        "flaskとpyngrokはパッケージ名\n",
        "flask: Webアプリケーションフレームワーク\n",
        "pyngrok: ngrok()をpythonから使うためのパッケージ(ライブラリ)\n",
        "\n",
        "Pythonのパッケージ・モジュール\n",
        "パッケージ: 一緒に使いたいモジュールをまとめてインストールできるようにパッキングしたもの\n",
        "モジュール: ある目的に使うプログラムをまとめたもの"
      ],
      "metadata": {
        "id": "99BMl85tl8xz"
      }
    },
    {
      "cell_type": "code",
      "source": [
        "# @title 3. 必要なモジュールのインストール\n",
        "import os\n",
        "\n",
        "# flaskからFlaskクラスをインポート\n",
        "from flask import Flask\n",
        "\n",
        "# pyngrokからngrokモジュールとconfモジュールをインポート\n",
        "from pyngrok import ngrok, conf"
      ],
      "metadata": {
        "id": "p53vkGffmWpj"
      },
      "execution_count": 2,
      "outputs": []
    },
    {
      "cell_type": "markdown",
      "source": [
        "from flaskは探すパッケージ先\n",
        "import Flaskはimportするモジュールの名前(大文字の場合はクラス)\n",
        "以降はFlaskという名前でflask内のFlaskモジュール(大文字の場合はクラス)を使える\n",
        "\n",
        "別の名前をつけることもできる\n",
        "ex. from flask import Flask as Myflask\n",
        "(元のコードはつまりfrom flask import Flask as Flaskのas以下が省略されたもの)"
      ],
      "metadata": {
        "id": "KpK4XcLDqTZD"
      }
    },
    {
      "cell_type": "markdown",
      "source": [
        "# 設定"
      ],
      "metadata": {
        "id": "4TdXA2FdrzIC"
      }
    },
    {
      "cell_type": "code",
      "source": [
        "# @title ngrokトークンを設定\n",
        "conf.get_default().auth_token = \"2mldIT2U5TSU0zD1ZM6GML8isHC_8vbBiAYTzJSNfySzG5EW\" # @param {type:\"string\"}"
      ],
      "metadata": {
        "id": "Zh1fF2q9sHmR"
      },
      "execution_count": 3,
      "outputs": []
    },
    {
      "cell_type": "markdown",
      "source": [
        "# Flaskのフレームワーク(枠組み)に沿ってアプリのプログラムを書く[アプリ]\n",
        "\n",
        "> 引用を追加\n",
        "\n"
      ],
      "metadata": {
        "id": "A1RSFY-ftKbp"
      }
    },
    {
      "cell_type": "code",
      "source": [
        "# @title Flaskクラスのインスタンスを作ってapp変数に入れる\n",
        "\n",
        "app = Flask(__name__)"
      ],
      "metadata": {
        "id": "0sq73h7CthO5"
      },
      "execution_count": 4,
      "outputs": []
    },
    {
      "cell_type": "markdown",
      "source": [
        "鯛焼きの型がクラスで鯛焼きがインスタンス"
      ],
      "metadata": {
        "id": "G5VfY52Vtmcb"
      }
    },
    {
      "cell_type": "code",
      "source": [
        "# @title フレームワークに自分のアプリのためのプログラムを追加する\n",
        "# / (ルート)にアクセスしたら次に書く関数(hello_world)を実行するという宣言\n",
        "\n",
        "@app.route(\"/\")\n",
        "def hell_world():\n",
        "  return \"<p>Hello, World!<p>\" # <p>タグで囲まれたHTMLをレスポンスとして返す"
      ],
      "metadata": {
        "id": "eLzXH2gNBIQE"
      },
      "execution_count": 5,
      "outputs": []
    },
    {
      "cell_type": "markdown",
      "source": [
        "# プログラムを実行してアプリを立ち上げる[実行]"
      ],
      "metadata": {
        "id": "RDxYQfs_ByD4"
      }
    },
    {
      "cell_type": "code",
      "source": [
        "# @title ngrokにトンネルを繋いでアプリを起動する\n",
        "\n",
        "if __name__ == \"__main__\":\n",
        "  public_url = ngrok.connect(5000) # ngrokのトンネルを繋ぐ\n",
        "  print(f\"ngrok URL: {public_url}\")\n",
        "  app.run(port=5000) # 5000番ポートでアプリを起動"
      ],
      "metadata": {
        "colab": {
          "base_uri": "https://localhost:8080/"
        },
        "id": "6sg9BYGkB_J0",
        "outputId": "4b95ba54-3938-41b2-f123-2e9acf3dddbc"
      },
      "execution_count": null,
      "outputs": [
        {
          "output_type": "stream",
          "name": "stdout",
          "text": [
            "ngrok URL: NgrokTunnel: \"https://1d94-34-105-53-70.ngrok-free.app\" -> \"http://localhost:5000\"\n",
            " * Serving Flask app '__main__'\n",
            " * Debug mode: off\n"
          ]
        },
        {
          "output_type": "stream",
          "name": "stderr",
          "text": [
            "INFO:werkzeug:\u001b[31m\u001b[1mWARNING: This is a development server. Do not use it in a production deployment. Use a production WSGI server instead.\u001b[0m\n",
            " * Running on http://127.0.0.1:5000\n",
            "INFO:werkzeug:\u001b[33mPress CTRL+C to quit\u001b[0m\n",
            "INFO:werkzeug:127.0.0.1 - - [16/Jan/2025 03:02:22] \"GET / HTTP/1.1\" 200 -\n",
            "INFO:werkzeug:127.0.0.1 - - [16/Jan/2025 03:02:22] \"\u001b[33mGET /favicon.ico HTTP/1.1\u001b[0m\" 404 -\n"
          ]
        }
      ]
    }
  ]
}